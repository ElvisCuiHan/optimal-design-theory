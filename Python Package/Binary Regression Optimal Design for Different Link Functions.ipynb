{
 "cells": [
  {
   "cell_type": "markdown",
   "id": "f4c87d2e",
   "metadata": {},
   "source": [
    "# Binary Regression Optimal Design for Different Link Functions"
   ]
  },
  {
   "cell_type": "markdown",
   "id": "87fc9af9",
   "metadata": {},
   "source": [
    "## Import packages"
   ]
  },
  {
   "cell_type": "code",
   "execution_count": 2,
   "id": "eb43fa1a",
   "metadata": {},
   "outputs": [],
   "source": [
    "import pyswarms as ps\n",
    "import numpy as np\n",
    "import scipy.stats as stats\n",
    "import matplotlib.pyplot as plt\n",
    "\n",
    "%matplotlib inline"
   ]
  },
  {
   "cell_type": "markdown",
   "id": "7ec70b16",
   "metadata": {},
   "source": [
    "## Some API functions"
   ]
  },
  {
   "cell_type": "code",
   "execution_count": 3,
   "id": "58386a83",
   "metadata": {},
   "outputs": [],
   "source": [
    "def logit(x, alpha, beta):\n",
    "    eta = alpha + beta * x \n",
    "    return np.exp(eta) / (1 + np.exp(eta)) **2\n",
    "def probit(x, alpha, beta):\n",
    "    eta = alpha + beta * x \n",
    "    Phi = stats.norm.cdf(eta)\n",
    "    return np.exp(-eta**2) / (2*np.pi*Phi*(1-Phi))\n",
    "def cox(x, alpha, beta):\n",
    "    eta = alpha + beta * x \n",
    "    return (np.exp(2*eta-np.exp(eta))) / (1-np.exp(-np.exp(eta)))\n",
    "def laplace(x, alpha, beta):\n",
    "    eta = alpha + beta * x \n",
    "    return np.exp(-2*np.abs(eta) - np.log(stats.laplace.cdf(eta)) -np.log( stats.laplace.cdf(-eta)))\n",
    "def student(x, alpha, beta):\n",
    "    eta = alpha + beta * x \n",
    "    return stats.t.pdf(eta, 2) ** 2 / (stats.t.cdf(eta, 2) * stats.t.pdf(-eta, 2))\n",
    "\n",
    "def info(x, alpha, beta, link=\"logit\"):\n",
    "    hi = np.zeros((2, 2))\n",
    "    if link == \"logit\":\n",
    "        weight = logit(x, alpha, beta)\n",
    "    elif link == \"probit\":\n",
    "        weight = probit(x, alpha, beta)\n",
    "    elif link == \"cox\":\n",
    "        weight = cox(x, alpha, beta)\n",
    "    elif link == \"laplace\":\n",
    "        weight = laplace(x, alpha, beta)\n",
    "    elif link == \"t\":\n",
    "        weight = student(x, alpha, beta)\n",
    "    else:\n",
    "        print(\"Please write your own code for your own link function!\")\n",
    "        return \n",
    "        \n",
    "    hi[0, 0] = np.sum(weight)\n",
    "    hi[0, 1] = hi[1, 0] = np.sum(weight*x)\n",
    "    hi[1, 1] = np.sum(weight * (x ** 2))\n",
    "    return hi\n",
    "\n",
    "def D_optim(b, **kwargs):\n",
    "    \"\"\"D-optim design\n",
    "\n",
    "    Parameters\n",
    "    ----------\n",
    "    b : numpy.ndarray\n",
    "        sets of inputs shape :code:'(n_particles, dimensions)'\n",
    "        usually for a simple logistic model, dimension is 8.\n",
    "\n",
    "    Returns\n",
    "    ----------\n",
    "    numpy.ndarray\n",
    "        computed cost of size :code:'(n_particles, )'\n",
    "    \"\"\"\n",
    "    alpha, beta, link = kwargs.values()\n",
    "\n",
    "    n, d = b.shape\n",
    "    loss = np.zeros(n)\n",
    "    \n",
    "    for i in range(n):\n",
    "        m = np.zeros((2, 2))\n",
    "        x = b[i, :(d//2)]\n",
    "        #x[1] = -x[0]\n",
    "        p = b[i, (d//2):]\n",
    "        #p[-1] = 1 - np.sum(p) + p[-1]\n",
    "        p = p / np.sum(p)\n",
    "        \n",
    "        for j in range((d//2)):\n",
    "            #print(info(x[j], alpha, beta))\n",
    "            m += p[j] * info(x[j], alpha, beta, link) #p[j] * (ca.dot(ca.T))#\n",
    "            \n",
    "        #m = np.linalg.inv(m)\n",
    "        \n",
    "        loss[i] = np.linalg.det(m)\n",
    "        if p[-1] < 0:\n",
    "            loss[i] -= 1e200\n",
    "        \n",
    "    return -loss\n",
    "\n",
    "def sensitivity(x, design, alpha, beta, link=\"logit\"):\n",
    "    \"\"\"\n",
    "    This function calculates the sensitivity function of a design.\n",
    "    \"\"\"\n",
    "    n = x.shape[0]\n",
    "    d = len(design)\n",
    "    design_point = design[:(d//2)]\n",
    "    p = design[(d//2):]\n",
    "    M = np.zeros((2, 2))\n",
    "    for j in range((d//2)):\n",
    "        M += p[j] * info(design_point[j], alpha, beta, link)\n",
    "    inv_M = np.linalg.inv(M)        \n",
    "    output = np.zeros(n)\n",
    "\n",
    "    for i in range(n):  \n",
    "        if link == \"logit\":\n",
    "            ca = logit(x[i, 1], alpha, beta)\n",
    "        elif link == \"probit\":\n",
    "            ca = probit(x[i, 1], alpha, beta)\n",
    "        elif link == \"cox\":\n",
    "            ca = cox(x[i, 1], alpha, beta)\n",
    "        elif link == \"laplace\":\n",
    "            ca = laplace(x[i, 1], alpha, beta)\n",
    "        elif link == \"t\":\n",
    "            ca = student(x, alpha, beta)\n",
    "        output[i] = (ca * x[i, :]).dot(inv_M).dot(x[i, :]) - 2\n",
    "    return output"
   ]
  },
  {
   "cell_type": "markdown",
   "id": "9e313caa",
   "metadata": {},
   "source": [
    "## Run PSO!"
   ]
  },
  {
   "cell_type": "code",
   "execution_count": 4,
   "id": "7feb9430",
   "metadata": {},
   "outputs": [
    {
     "name": "stderr",
     "output_type": "stream",
     "text": [
      "2022-05-18 03:23:09,847 - pyswarms.single.global_best - INFO - Optimize for 600 iters with {'c1': 0.5, 'c2': 0.3, 'w': 0.9}\n",
      "pyswarms.single.global_best:   0%|          |0/600<ipython-input-3-58eeef1e2507>:7: RuntimeWarning: divide by zero encountered in double_scalars\n",
      "  return np.exp(-eta**2) / (2*np.pi*Phi*(1-Phi))\n",
      "/Users/elviscui/opt/anaconda3/lib/python3.8/site-packages/numpy/linalg/linalg.py:2159: RuntimeWarning: invalid value encountered in det\n",
      "  r = _umath_linalg.det(a, signature=signature)\n",
      "pyswarms.single.global_best: 100%|██████████|600/600, best_cost=-.199\n",
      "2022-05-18 03:23:18,282 - pyswarms.single.global_best - INFO - Optimization finished | best cost: -0.19868373110621543, best pos: [-1.13810128 -1.13800334  1.13810802  0.57616512  0.05392177  0.63008668]\n"
     ]
    }
   ],
   "source": [
    "n = 50 # number of particles\n",
    "d = 6 # dimension of the problem\n",
    "b = np.random.random((n, d))\n",
    "link_type = \"probit\"\n",
    "a = 0\n",
    "b = 1\n",
    "bounds = [tuple(np.concatenate([[-10.] * (d//2), [0]* (d//2)])),\n",
    "          tuple(np.concatenate([[10] * (d//2), [1]* (d//2)]))]\n",
    "\n",
    "options = {'c1': 0.5, 'c2': 0.3, 'w': 0.9}\n",
    "optimizer = ps.single.GlobalBestPSO(n_particles=n, dimensions=d, options=options, bounds=bounds)\n",
    "best_cost, best_pos = optimizer.optimize(D_optim, iters=600, alpha=a, beta=b, link=link_type)\n",
    "best_pos[(d // 2):] = best_pos[(d // 2):] / np.sum(best_pos[(d // 2):])"
   ]
  },
  {
   "cell_type": "code",
   "execution_count": 5,
   "id": "bd0d645a",
   "metadata": {},
   "outputs": [
    {
     "name": "stdout",
     "output_type": "stream",
     "text": [
      "Design points:\n",
      "[-1.1381  -1.138    1.13811]\n",
      "Design weights:\n",
      "[0.45721 0.04279 0.5    ]\n"
     ]
    },
    {
     "data": {
      "text/plain": [
       "array([-1.13810128, -1.13800334,  1.13810802])"
      ]
     },
     "execution_count": 5,
     "metadata": {},
     "output_type": "execute_result"
    }
   ],
   "source": [
    "print(\"Design points:\")\n",
    "print(np.round(best_pos[:(d//2)], 5))\n",
    "print(\"Design weights:\")\n",
    "print(np.round(best_pos[(d//2):], 5))\n",
    "\n",
    "b * best_pos[:(d//2)] + a"
   ]
  },
  {
   "cell_type": "code",
   "execution_count": 6,
   "id": "a38093a2",
   "metadata": {},
   "outputs": [
    {
     "data": {
      "text/plain": [
       "Text(0.5, 1.0, 'probit: a=0 b=1')"
      ]
     },
     "execution_count": 6,
     "metadata": {},
     "output_type": "execute_result"
    },
    {
     "data": {
      "image/png": "[encoded data removed]",
      "text/plain": [
       "<Figure size 720x576 with 1 Axes>"
      ]
     },
     "metadata": {
      "needs_background": "light"
     },
     "output_type": "display_data"
    }
   ],
   "source": [
    "num = 1000\n",
    "low = -4; upp = 4\n",
    "x = np.stack((np.ones((num, )), np.linspace(low, upp, num))).T\n",
    "\n",
    "biao = sensitivity(x, best_pos, a, b, link_type)\n",
    "\n",
    "plt.figure(figsize=(10, 8))\n",
    "plt.plot(np.linspace(low, upp, num), biao, c=\"blue\", linewidth=4)\n",
    "plt.xlabel(\"x\", fontsize=20)\n",
    "plt.ylabel(\"sensitivity\", fontsize=20)\n",
    "plt.title(link_type+\": a=\"+str(a)+\" b=\"+str(b), fontsize=24)"
   ]
  }
 ],
 "metadata": {
  "kernelspec": {
   "display_name": "Python 3",
   "language": "python",
   "name": "python3"
  },
  "language_info": {
   "codemirror_mode": {
    "name": "ipython",
    "version": 3
   },
   "file_extension": ".py",
   "mimetype": "text/x-python",
   "name": "python",
   "nbconvert_exporter": "python",
   "pygments_lexer": "ipython3",
   "version": "3.8.5"
  }
 },
 "nbformat": 4,
 "nbformat_minor": 5
}
